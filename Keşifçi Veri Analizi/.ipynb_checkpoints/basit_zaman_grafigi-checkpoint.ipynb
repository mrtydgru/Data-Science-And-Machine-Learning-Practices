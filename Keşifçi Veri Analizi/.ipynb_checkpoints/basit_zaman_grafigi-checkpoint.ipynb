{
 "cells": [
  {
   "cell_type": "markdown",
   "metadata": {},
   "source": [
    "## Basit Zaman Grafiği"
   ]
  },
  {
   "cell_type": "code",
   "execution_count": 13,
   "metadata": {},
   "outputs": [
    {
     "name": "stdout",
     "output_type": "stream",
     "text": [
      "Requirement already satisfied: pandas_datareader in c:\\users\\mert\\anaconda3\\lib\\site-packages (0.8.1)\n",
      "Requirement already satisfied: lxml in c:\\users\\mert\\anaconda3\\lib\\site-packages (from pandas_datareader) (4.4.1)\n",
      "Requirement already satisfied: pandas>=0.21 in c:\\users\\mert\\anaconda3\\lib\\site-packages (from pandas_datareader) (0.25.1)\n",
      "Requirement already satisfied: requests>=2.3.0 in c:\\users\\mert\\anaconda3\\lib\\site-packages (from pandas_datareader) (2.22.0)\n",
      "Requirement already satisfied: numpy>=1.13.3 in c:\\users\\mert\\anaconda3\\lib\\site-packages (from pandas>=0.21->pandas_datareader) (1.16.5)\n",
      "Requirement already satisfied: python-dateutil>=2.6.1 in c:\\users\\mert\\anaconda3\\lib\\site-packages (from pandas>=0.21->pandas_datareader) (2.8.0)\n",
      "Requirement already satisfied: pytz>=2017.2 in c:\\users\\mert\\anaconda3\\lib\\site-packages (from pandas>=0.21->pandas_datareader) (2019.3)\n",
      "Requirement already satisfied: idna<2.9,>=2.5 in c:\\users\\mert\\anaconda3\\lib\\site-packages (from requests>=2.3.0->pandas_datareader) (2.8)\n",
      "Requirement already satisfied: chardet<3.1.0,>=3.0.2 in c:\\users\\mert\\anaconda3\\lib\\site-packages (from requests>=2.3.0->pandas_datareader) (3.0.4)\n",
      "Requirement already satisfied: certifi>=2017.4.17 in c:\\users\\mert\\anaconda3\\lib\\site-packages (from requests>=2.3.0->pandas_datareader) (2019.9.11)\n",
      "Requirement already satisfied: urllib3!=1.25.0,!=1.25.1,<1.26,>=1.21.1 in c:\\users\\mert\\anaconda3\\lib\\site-packages (from requests>=2.3.0->pandas_datareader) (1.24.2)\n",
      "Requirement already satisfied: six>=1.5 in c:\\users\\mert\\anaconda3\\lib\\site-packages (from python-dateutil>=2.6.1->pandas>=0.21->pandas_datareader) (1.12.0)\n"
     ]
    }
   ],
   "source": [
    "!pip install pandas_datareader\n",
    "import pandas_datareader as pr\n",
    "import pandas as pd"
   ]
  },
  {
   "cell_type": "code",
   "execution_count": 2,
   "metadata": {},
   "outputs": [],
   "source": [
    "df = pr.get_data_yahoo(\"AAPL\", start= \"2016-01-01\", end=\"2019-08-25\")"
   ]
  },
  {
   "cell_type": "code",
   "execution_count": 3,
   "metadata": {},
   "outputs": [
    {
     "data": {
      "text/html": [
       "<div>\n",
       "<style scoped>\n",
       "    .dataframe tbody tr th:only-of-type {\n",
       "        vertical-align: middle;\n",
       "    }\n",
       "\n",
       "    .dataframe tbody tr th {\n",
       "        vertical-align: top;\n",
       "    }\n",
       "\n",
       "    .dataframe thead th {\n",
       "        text-align: right;\n",
       "    }\n",
       "</style>\n",
       "<table border=\"1\" class=\"dataframe\">\n",
       "  <thead>\n",
       "    <tr style=\"text-align: right;\">\n",
       "      <th></th>\n",
       "      <th>High</th>\n",
       "      <th>Low</th>\n",
       "      <th>Open</th>\n",
       "      <th>Close</th>\n",
       "      <th>Volume</th>\n",
       "      <th>Adj Close</th>\n",
       "    </tr>\n",
       "    <tr>\n",
       "      <th>Date</th>\n",
       "      <th></th>\n",
       "      <th></th>\n",
       "      <th></th>\n",
       "      <th></th>\n",
       "      <th></th>\n",
       "      <th></th>\n",
       "    </tr>\n",
       "  </thead>\n",
       "  <tbody>\n",
       "    <tr>\n",
       "      <td>2016-01-04</td>\n",
       "      <td>105.370003</td>\n",
       "      <td>102.000000</td>\n",
       "      <td>102.610001</td>\n",
       "      <td>105.349998</td>\n",
       "      <td>67649400.0</td>\n",
       "      <td>97.948441</td>\n",
       "    </tr>\n",
       "    <tr>\n",
       "      <td>2016-01-05</td>\n",
       "      <td>105.849998</td>\n",
       "      <td>102.410004</td>\n",
       "      <td>105.750000</td>\n",
       "      <td>102.709999</td>\n",
       "      <td>55791000.0</td>\n",
       "      <td>95.493919</td>\n",
       "    </tr>\n",
       "    <tr>\n",
       "      <td>2016-01-06</td>\n",
       "      <td>102.370003</td>\n",
       "      <td>99.870003</td>\n",
       "      <td>100.559998</td>\n",
       "      <td>100.699997</td>\n",
       "      <td>68457400.0</td>\n",
       "      <td>93.625145</td>\n",
       "    </tr>\n",
       "    <tr>\n",
       "      <td>2016-01-07</td>\n",
       "      <td>100.129997</td>\n",
       "      <td>96.430000</td>\n",
       "      <td>98.680000</td>\n",
       "      <td>96.449997</td>\n",
       "      <td>81094400.0</td>\n",
       "      <td>89.673714</td>\n",
       "    </tr>\n",
       "    <tr>\n",
       "      <td>2016-01-08</td>\n",
       "      <td>99.110001</td>\n",
       "      <td>96.760002</td>\n",
       "      <td>98.550003</td>\n",
       "      <td>96.959999</td>\n",
       "      <td>70798000.0</td>\n",
       "      <td>90.147873</td>\n",
       "    </tr>\n",
       "  </tbody>\n",
       "</table>\n",
       "</div>"
      ],
      "text/plain": [
       "                  High         Low        Open       Close      Volume  \\\n",
       "Date                                                                     \n",
       "2016-01-04  105.370003  102.000000  102.610001  105.349998  67649400.0   \n",
       "2016-01-05  105.849998  102.410004  105.750000  102.709999  55791000.0   \n",
       "2016-01-06  102.370003   99.870003  100.559998  100.699997  68457400.0   \n",
       "2016-01-07  100.129997   96.430000   98.680000   96.449997  81094400.0   \n",
       "2016-01-08   99.110001   96.760002   98.550003   96.959999  70798000.0   \n",
       "\n",
       "            Adj Close  \n",
       "Date                   \n",
       "2016-01-04  97.948441  \n",
       "2016-01-05  95.493919  \n",
       "2016-01-06  93.625145  \n",
       "2016-01-07  89.673714  \n",
       "2016-01-08  90.147873  "
      ]
     },
     "execution_count": 3,
     "metadata": {},
     "output_type": "execute_result"
    }
   ],
   "source": [
    "df.head()"
   ]
  },
  {
   "cell_type": "code",
   "execution_count": 4,
   "metadata": {},
   "outputs": [
    {
     "data": {
      "text/plain": [
       "(917, 6)"
      ]
     },
     "execution_count": 4,
     "metadata": {},
     "output_type": "execute_result"
    }
   ],
   "source": [
    "df.shape"
   ]
  },
  {
   "cell_type": "code",
   "execution_count": 7,
   "metadata": {},
   "outputs": [],
   "source": [
    "kapanis = df[\"Close\"]"
   ]
  },
  {
   "cell_type": "code",
   "execution_count": 8,
   "metadata": {},
   "outputs": [
    {
     "data": {
      "text/plain": [
       "Date\n",
       "2016-01-04    105.349998\n",
       "2016-01-05    102.709999\n",
       "2016-01-06    100.699997\n",
       "2016-01-07     96.449997\n",
       "2016-01-08     96.959999\n",
       "Name: Close, dtype: float64"
      ]
     },
     "execution_count": 8,
     "metadata": {},
     "output_type": "execute_result"
    }
   ],
   "source": [
    "kapanis.head()"
   ]
  },
  {
   "cell_type": "code",
   "execution_count": 10,
   "metadata": {},
   "outputs": [
    {
     "data": {
      "image/png": "[encoded data removed]",
      "text/plain": [
       "<Figure size 432x288 with 1 Axes>"
      ]
     },
     "metadata": {
      "needs_background": "light"
     },
     "output_type": "display_data"
    }
   ],
   "source": [
    "kapanis.plot();"
   ]
  },
  {
   "cell_type": "code",
   "execution_count": 11,
   "metadata": {},
   "outputs": [
    {
     "data": {
      "text/plain": [
       "DatetimeIndex(['2016-01-04', '2016-01-05', '2016-01-06', '2016-01-07',\n",
       "               '2016-01-08', '2016-01-11', '2016-01-12', '2016-01-13',\n",
       "               '2016-01-14', '2016-01-15',\n",
       "               ...\n",
       "               '2019-08-12', '2019-08-13', '2019-08-14', '2019-08-15',\n",
       "               '2019-08-16', '2019-08-19', '2019-08-20', '2019-08-21',\n",
       "               '2019-08-22', '2019-08-23'],\n",
       "              dtype='datetime64[ns]', name='Date', length=917, freq=None)"
      ]
     },
     "execution_count": 11,
     "metadata": {},
     "output_type": "execute_result"
    }
   ],
   "source": [
    "kapanis.index"
   ]
  },
  {
   "cell_type": "code",
   "execution_count": 14,
   "metadata": {},
   "outputs": [],
   "source": [
    "# indexleri zamana bağlı değişken olduğu için yapılır\n",
    "kapanis.index = pd.DatetimeIndex(kapanis.index)"
   ]
  },
  {
   "cell_type": "code",
   "execution_count": null,
   "metadata": {},
   "outputs": [],
   "source": []
  }
 ],
 "metadata": {
  "kernelspec": {
   "display_name": "Python 3",
   "language": "python",
   "name": "python3"
  },
  "language_info": {
   "codemirror_mode": {
    "name": "ipython",
    "version": 3
   },
   "file_extension": ".py",
   "mimetype": "text/x-python",
   "name": "python",
   "nbconvert_exporter": "python",
   "pygments_lexer": "ipython3",
   "version": "3.7.4"
  },
  "toc": {
   "base_numbering": 1,
   "nav_menu": {},
   "number_sections": true,
   "sideBar": true,
   "skip_h1_title": false,
   "title_cell": "Table of Contents",
   "title_sidebar": "Contents",
   "toc_cell": false,
   "toc_position": {},
   "toc_section_display": true,
   "toc_window_display": false
  }
 },
 "nbformat": 4,
 "nbformat_minor": 2
}
